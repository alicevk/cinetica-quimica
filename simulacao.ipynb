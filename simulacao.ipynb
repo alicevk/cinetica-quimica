{
 "cells": [
  {
   "attachments": {},
   "cell_type": "markdown",
   "metadata": {},
   "source": [
    "# Cinética Química\n",
    "\n",
    "#### Alice Vitti Kageyama e Pedro Thomazelli Ferreira\n",
    "\n",
    "Prof. Amauri Jardim de Paula\n",
    "\n",
    "Ilum Escola de Ciência - Campinas, SP\n",
    "\n",
    "\n"
   ]
  },
  {
   "cell_type": "code",
   "execution_count": 11,
   "metadata": {},
   "outputs": [
    {
     "data": {
      "application/javascript": "if (typeof Jupyter !== \"undefined\") {require.undef(\"nbextensions/vpython_libraries/glow.min\");}else{element.textContent = ' ';}",
      "text/plain": [
       "<IPython.core.display.Javascript object>"
      ]
     },
     "metadata": {},
     "output_type": "display_data"
    },
    {
     "data": {
      "application/javascript": "if (typeof Jupyter !== \"undefined\") {require.undef(\"nbextensions/vpython_libraries/glowcomm\");}else{element.textContent = ' ';}",
      "text/plain": [
       "<IPython.core.display.Javascript object>"
      ]
     },
     "metadata": {},
     "output_type": "display_data"
    },
    {
     "data": {
      "application/javascript": "if (typeof Jupyter !== \"undefined\") {require.undef(\"nbextensions/vpython_libraries/jquery-ui.custom.min\");}else{element.textContent = ' ';}",
      "text/plain": [
       "<IPython.core.display.Javascript object>"
      ]
     },
     "metadata": {},
     "output_type": "display_data"
    },
    {
     "data": {
      "application/javascript": "if (typeof Jupyter !== \"undefined\") {require([\"nbextensions/vpython_libraries/glow.min\"], function(){console.log(\"GLOW LOADED\");});}else{element.textContent = ' ';}",
      "text/plain": [
       "<IPython.core.display.Javascript object>"
      ]
     },
     "metadata": {},
     "output_type": "display_data"
    },
    {
     "data": {
      "application/javascript": "if (typeof Jupyter !== \"undefined\") {require([\"nbextensions/vpython_libraries/glowcomm\"], function(){console.log(\"GLOWCOMM LOADED\");});}else{element.textContent = ' ';}",
      "text/plain": [
       "<IPython.core.display.Javascript object>"
      ]
     },
     "metadata": {},
     "output_type": "display_data"
    },
    {
     "data": {
      "application/javascript": "if (typeof Jupyter !== \"undefined\") {require([\"nbextensions/vpython_libraries/jquery-ui.custom.min\"], function(){console.log(\"JQUERY LOADED\");});}else{element.textContent = ' ';}",
      "text/plain": [
       "<IPython.core.display.Javascript object>"
      ]
     },
     "metadata": {},
     "output_type": "display_data"
    },
    {
     "ename": "KeyboardInterrupt",
     "evalue": "",
     "output_type": "error",
     "traceback": [
      "\u001b[0;31m---------------------------------------------------------------------------\u001b[0m",
      "\u001b[0;31mKeyboardInterrupt\u001b[0m                         Traceback (most recent call last)",
      "Cell \u001b[0;32mIn[11], line 26\u001b[0m\n\u001b[1;32m     24\u001b[0m \u001b[39mfor\u001b[39;00m num \u001b[39min\u001b[39;00m \u001b[39mrange\u001b[39m(numPart):\n\u001b[1;32m     25\u001b[0m     particula \u001b[39m=\u001b[39m Particula(random\u001b[39m.\u001b[39mrandint(\u001b[39m0\u001b[39m,\u001b[39m5\u001b[39m), random\u001b[39m.\u001b[39mrandint(\u001b[39m0\u001b[39m,\u001b[39m5\u001b[39m),  random\u001b[39m.\u001b[39mrandint(\u001b[39m0\u001b[39m,\u001b[39m5\u001b[39m),  random\u001b[39m.\u001b[39mrandint(\u001b[39m0\u001b[39m,\u001b[39m1\u001b[39m),  random\u001b[39m.\u001b[39mrandint(\u001b[39m0\u001b[39m,\u001b[39m1\u001b[39m),  random\u001b[39m.\u001b[39mrandint(\u001b[39m0\u001b[39m,\u001b[39m1\u001b[39m), \u001b[39m1\u001b[39m, \u001b[39m1\u001b[39m)\n\u001b[0;32m---> 26\u001b[0m     sphere(pos \u001b[39m=\u001b[39;49m vector(particula\u001b[39m.\u001b[39;49mx ,particula\u001b[39m.\u001b[39;49my, particula\u001b[39m.\u001b[39;49mz), radius \u001b[39m=\u001b[39;49m particula\u001b[39m.\u001b[39;49mr)\n",
      "File \u001b[0;32m~/.local/lib/python3.10/site-packages/vpython/vpython.py:1172\u001b[0m, in \u001b[0;36msphere.__init__\u001b[0;34m(self, **args)\u001b[0m\n\u001b[1;32m   1170\u001b[0m args[\u001b[39m'\u001b[39m\u001b[39m_default_size\u001b[39m\u001b[39m'\u001b[39m] \u001b[39m=\u001b[39m vector(\u001b[39m2\u001b[39m,\u001b[39m2\u001b[39m,\u001b[39m2\u001b[39m)\n\u001b[1;32m   1171\u001b[0m args[\u001b[39m'\u001b[39m\u001b[39m_objName\u001b[39m\u001b[39m'\u001b[39m] \u001b[39m=\u001b[39m \u001b[39m\"\u001b[39m\u001b[39msphere\u001b[39m\u001b[39m\"\u001b[39m\n\u001b[0;32m-> 1172\u001b[0m \u001b[39msuper\u001b[39;49m(sphere, \u001b[39mself\u001b[39;49m)\u001b[39m.\u001b[39;49msetup(args)\n\u001b[1;32m   1173\u001b[0m \u001b[39mself\u001b[39m\u001b[39m.\u001b[39m_sizing \u001b[39m=\u001b[39m \u001b[39mFalse\u001b[39;00m\n",
      "File \u001b[0;32m~/.local/lib/python3.10/site-packages/vpython/vpython.py:599\u001b[0m, in \u001b[0;36mstandardAttributes.setup\u001b[0;34m(self, args)\u001b[0m\n\u001b[1;32m    598\u001b[0m \u001b[39mdef\u001b[39;00m \u001b[39msetup\u001b[39m(\u001b[39mself\u001b[39m, args):\n\u001b[0;32m--> 599\u001b[0m     \u001b[39msuper\u001b[39;49m(standardAttributes, \u001b[39mself\u001b[39;49m)\u001b[39m.\u001b[39;49m\u001b[39m__init__\u001b[39;49m()\n\u001b[1;32m    600\u001b[0m     \u001b[39mself\u001b[39m\u001b[39m.\u001b[39m_constructing \u001b[39m=\u001b[39m \u001b[39mTrue\u001b[39;00m  \u001b[39m## calls to setters are from constructor\u001b[39;00m\n\u001b[1;32m    602\u001b[0m     objName \u001b[39m=\u001b[39m \u001b[39mself\u001b[39m\u001b[39m.\u001b[39m_objName \u001b[39m=\u001b[39m args[\u001b[39m'\u001b[39m\u001b[39m_objName\u001b[39m\u001b[39m'\u001b[39m]  \u001b[39m## identifies object type\u001b[39;00m\n",
      "File \u001b[0;32m~/.local/lib/python3.10/site-packages/vpython/vpython.py:257\u001b[0m, in \u001b[0;36mbaseObj.__init__\u001b[0;34m(self, **kwargs)\u001b[0m\n\u001b[1;32m    254\u001b[0m \u001b[39mif\u001b[39;00m \u001b[39mnot\u001b[39;00m (baseObj\u001b[39m.\u001b[39m_view_constructed \u001b[39mor\u001b[39;00m\n\u001b[1;32m    255\u001b[0m         baseObj\u001b[39m.\u001b[39m_canvas_constructing):\n\u001b[1;32m    256\u001b[0m     \u001b[39mif\u001b[39;00m _isnotebook:\n\u001b[0;32m--> 257\u001b[0m         \u001b[39mfrom\u001b[39;00m \u001b[39m.\u001b[39;00m\u001b[39mwith_notebook\u001b[39;00m \u001b[39mimport\u001b[39;00m _\n\u001b[1;32m    258\u001b[0m     \u001b[39melse\u001b[39;00m:\n\u001b[1;32m    259\u001b[0m         \u001b[39mfrom\u001b[39;00m \u001b[39m.\u001b[39;00m\u001b[39mno_notebook\u001b[39;00m \u001b[39mimport\u001b[39;00m _\n",
      "File \u001b[0;32m~/.local/lib/python3.10/site-packages/vpython/with_notebook.py:153\u001b[0m\n\u001b[1;32m    151\u001b[0m baseObj\u001b[39m.\u001b[39mglow \u001b[39m=\u001b[39m GlowWidget(wsport\u001b[39m=\u001b[39m__SOCKET_PORT, wsuri\u001b[39m=\u001b[39m\u001b[39m'\u001b[39m\u001b[39m/ws\u001b[39m\u001b[39m'\u001b[39m)\n\u001b[1;32m    152\u001b[0m \u001b[39mwhile\u001b[39;00m (\u001b[39mnot\u001b[39;00m wsConnected):\n\u001b[0;32m--> 153\u001b[0m     time\u001b[39m.\u001b[39;49msleep(\u001b[39m0.1\u001b[39;49m)          \u001b[39m# wait for websocket to connect\u001b[39;00m\n\u001b[1;32m    155\u001b[0m baseObj\u001b[39m.\u001b[39mtrigger()  \u001b[39m# start the trigger ping-pong process\u001b[39;00m\n\u001b[1;32m    158\u001b[0m \u001b[39m# Same justification as above for removing the ipykernel check.\u001b[39;00m\n\u001b[1;32m    159\u001b[0m \u001b[39m# There was also an IPython version check for >=4, which was\u001b[39;00m\n\u001b[1;32m    160\u001b[0m \u001b[39m# released in Nov 2015. Ok to stop supporting in 2.019 I think.\u001b[39;00m\n",
      "\u001b[0;31mKeyboardInterrupt\u001b[0m: "
     ]
    }
   ],
   "source": [
    "# Importações:\n",
    "\n",
    "from vpython import *\n",
    "import random\n",
    "\n",
    "# Definindo uma classe para cada partícula:\n",
    "\n",
    "class Particula:\n",
    "    def __init__(self, x, y, z, vx, vy, vz, r, m):\n",
    "        self.x = x\n",
    "        self.y = y\n",
    "        self.z = z\n",
    "        self.vx = vx\n",
    "        self.vy = vy\n",
    "        self.vz = vz\n",
    "        self.r = r\n",
    "        self.m = m\n",
    "        \n",
    "# Criando partículas:\n",
    "\n",
    "numPart = 5\n",
    "\n",
    "\n",
    "for num in range(numPart):\n",
    "    particula = Particula(random.randint(0,5), random.randint(0,5),  random.randint(0,5),  random.randint(0,1),  random.randint(0,1),  random.randint(0,1), 1, 1)\n",
    "    sphere(pos = vector(particula.x ,particula.y, particula.z), radius = particula.r)"
   ]
  },
  {
   "cell_type": "code",
   "execution_count": null,
   "metadata": {},
   "outputs": [],
   "source": []
  }
 ],
 "metadata": {
  "kernelspec": {
   "display_name": "Python 3",
   "language": "python",
   "name": "python3"
  },
  "language_info": {
   "codemirror_mode": {
    "name": "ipython",
    "version": 3
   },
   "file_extension": ".py",
   "mimetype": "text/x-python",
   "name": "python",
   "nbconvert_exporter": "python",
   "pygments_lexer": "ipython3",
   "version": "3.10.6"
  },
  "orig_nbformat": 4
 },
 "nbformat": 4,
 "nbformat_minor": 2
}
